{
  "nbformat": 4,
  "nbformat_minor": 0,
  "metadata": {
    "colab": {
      "provenance": []
    },
    "kernelspec": {
      "name": "python3",
      "display_name": "Python 3"
    },
    "language_info": {
      "name": "python"
    }
  },
  "cells": [
    {
      "cell_type": "code",
      "execution_count": null,
      "metadata": {
        "id": "Yy8WtLFt7x6N"
      },
      "outputs": [],
      "source": [
        "modern_family = ['CLaiRe_DunPhY', 'PHiL_dUnpHY', 'GLoRiA_PriTCheTt', 'CaMErOn_TuCKEr',\n",
        "'StELLa']"
      ]
    },
    {
      "cell_type": "code",
      "source": [
        "indices = []\n",
        "characters = []"
      ],
      "metadata": {
        "id": "f76R0bEP9IlK"
      },
      "execution_count": null,
      "outputs": []
    },
    {
      "cell_type": "code",
      "source": [
        "for index,char in enumerate(modern_family):\n",
        "  indices.append(index)\n",
        "  characters.append(char.lower().replace('_','-'))\n",
        "\n",
        "print(indices,characters)"
      ],
      "metadata": {
        "colab": {
          "base_uri": "https://localhost:8080/"
        },
        "id": "FwwzQdZG9LFl",
        "outputId": "518efa6d-7e41-432e-95d4-18d2c99b3522"
      },
      "execution_count": null,
      "outputs": [
        {
          "output_type": "stream",
          "name": "stdout",
          "text": [
            "[0, 1, 2, 3, 4] ['claire-dunphy', 'phil-dunphy', 'gloria-pritchett', 'cameron-tucker', 'stella']\n"
          ]
        }
      ]
    },
    {
      "cell_type": "code",
      "source": [
        "temp = []\n",
        "temp = list(map(lambda x: len(x), characters))\n",
        "print(temp)"
      ],
      "metadata": {
        "colab": {
          "base_uri": "https://localhost:8080/"
        },
        "id": "KLqO0vWd9ZGb",
        "outputId": "31e9aba3-15e9-4bc2-9ad9-7f5558c70ee9"
      },
      "execution_count": null,
      "outputs": [
        {
          "output_type": "stream",
          "name": "stdout",
          "text": [
            "[13, 11, 16, 14, 6]\n"
          ]
        }
      ]
    },
    {
      "cell_type": "code",
      "source": [
        "for i,x in enumerate(list(zip(temp,indices))):\n",
        "  indices[i] = sum(x)\n",
        "\n",
        "indices.sort(reverse = True)  "
      ],
      "metadata": {
        "id": "LR_yDkjV_Ns5"
      },
      "execution_count": null,
      "outputs": []
    },
    {
      "cell_type": "code",
      "source": [
        "Phew_finally = {k:v for k,v in zip(indices,characters)}\n",
        "\n",
        "Phew_finally"
      ],
      "metadata": {
        "colab": {
          "base_uri": "https://localhost:8080/"
        },
        "id": "5QAzr01zAYZM",
        "outputId": "f36d1f68-9520-4ce2-a452-b1b4b2eb6158"
      },
      "execution_count": null,
      "outputs": [
        {
          "output_type": "execute_result",
          "data": {
            "text/plain": [
              "{18: 'claire-dunphy',\n",
              " 17: 'phil-dunphy',\n",
              " 13: 'gloria-pritchett',\n",
              " 12: 'cameron-tucker',\n",
              " 10: 'stella'}"
            ]
          },
          "metadata": {},
          "execution_count": 47
        }
      ]
    },
    {
      "cell_type": "code",
      "source": [
        "creepy_doll = ['red_light', 'green_light', 'red_light', 'you_got_shot', 'green_light', 'you_got_shot',\n",
        "'you_got_shot', 'green_light', 'you_ got_shot', 'red_light', 'green_light', 'red_light', 'you_got_shot',\n",
        "'green_light','red_light', 'red_light', 'green_light', 'you_got_shot','red_light', 'you_got_shot']"
      ],
      "metadata": {
        "id": "G0tcnGoyAwky"
      },
      "execution_count": null,
      "outputs": []
    },
    {
      "cell_type": "code",
      "source": [
        "next_game = creepy_doll[1:-1:3]\n",
        "next_game"
      ],
      "metadata": {
        "colab": {
          "base_uri": "https://localhost:8080/"
        },
        "id": "w5KIpwETBNTj",
        "outputId": "1c07a547-88c1-403b-ddd5-a31fe44257df"
      },
      "execution_count": null,
      "outputs": [
        {
          "output_type": "execute_result",
          "data": {
            "text/plain": [
              "['green_light',\n",
              " 'green_light',\n",
              " 'green_light',\n",
              " 'green_light',\n",
              " 'green_light',\n",
              " 'green_light']"
            ]
          },
          "metadata": {},
          "execution_count": 51
        }
      ]
    },
    {
      "cell_type": "code",
      "source": [
        "titans = []\n",
        "class titandex:\n",
        "  def __init__(self,name,height,strength,win_streak=0):\n",
        "    self.name = name\n",
        "    self.height = height\n",
        "    self.strength = strength\n",
        "    self.streak = win_streak\n",
        "    titans.append(self)\n",
        "\n",
        "  def TitanvsScout(self,Scout_name,strength):\n",
        "    if self.strength > strength:\n",
        "      self.streak += 1\n",
        "    else:\n",
        "      self.streak = 0  \n",
        "\n",
        "  def TitanvsTitan(self):\n",
        "    for titan in titans:\n",
        "      if titan.name != self.name:\n",
        "        if self.strength > titan.strength:\n",
        "          self.streak += 1\n",
        "        else:\n",
        "          self.streak = 0"
      ],
      "metadata": {
        "id": "F00rdKt_BtaK"
      },
      "execution_count": null,
      "outputs": []
    },
    {
      "cell_type": "code",
      "source": [
        "titandex('Founding Titan',13,350)\n",
        "titandex('Attack Titan',15,275)\n",
        "titandex('Armored Titan',15,250)"
      ],
      "metadata": {
        "colab": {
          "base_uri": "https://localhost:8080/"
        },
        "id": "05B-X5U-Dm6T",
        "outputId": "c3773c93-bea7-4c12-b398-7ec7e2c11e34"
      },
      "execution_count": null,
      "outputs": [
        {
          "output_type": "execute_result",
          "data": {
            "text/plain": [
              "<__main__.titandex at 0x7f426c1df650>"
            ]
          },
          "metadata": {},
          "execution_count": 83
        }
      ]
    },
    {
      "cell_type": "code",
      "source": [
        "titans[1].TitanvsScout('Levi',300)\n",
        "titans[1].TitanvsTitan()\n",
        "titans[1].streak"
      ],
      "metadata": {
        "colab": {
          "base_uri": "https://localhost:8080/"
        },
        "id": "gupXh43wDyMl",
        "outputId": "843cd6ff-dc92-4e17-fff7-e96cd3ec8554"
      },
      "execution_count": null,
      "outputs": [
        {
          "output_type": "execute_result",
          "data": {
            "text/plain": [
              "1"
            ]
          },
          "metadata": {},
          "execution_count": 85
        }
      ]
    },
    {
      "cell_type": "code",
      "source": [],
      "metadata": {
        "id": "84NHSvqdEMKF"
      },
      "execution_count": null,
      "outputs": []
    }
  ]
}